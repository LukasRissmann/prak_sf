{
 "cells": [
  {
   "cell_type": "code",
   "execution_count": 1,
   "metadata": {},
   "outputs": [],
   "source": [
    "import numpy as np\n",
    "import matplotlib.pyplot as plt\n",
    "import cv2"
   ]
  },
  {
   "cell_type": "code",
   "execution_count": null,
   "metadata": {},
   "outputs": [],
   "source": [
    "\"\"\" \n",
    "Part 1: Take a picture\n",
    "\n",
    "Replace all ____ with the correct code\n",
    "\n",
    "\"\"\""
   ]
  },
  {
   "cell_type": "code",
   "execution_count": 2,
   "metadata": {},
   "outputs": [],
   "source": [
    "#There are three ways to read an image:\n",
    "#no 1: use the cv2.imread() function\n",
    "image = cv2.imread('filename.png')\n",
    "#no 2: connect to the camera and read the live images\n",
    "cap = cv2.VideoCapture(0, cv2.CAP_DSHOW)\n",
    "#note that the camera is a video stream, so you have to read the images frame by frame\n",
    "#using the read() function\n",
    "ret,frame = cap.read()\n",
    "#after reading the image, the cap object has to be released\n",
    "cap.release()\n",
    "#no 3: use the Videocapture object to return a single frame\n",
    "cap = cv2.VideoCapture(0, cv2.CAP_DSHOW)\n",
    "#this can be achieved using the set function\n",
    "cap.set(1, 10)\n",
    "#read the image\n",
    "frame = cap.read()\n",
    "#release the cap object\n",
    "cap.release()"
   ]
  },
  {
   "cell_type": "code",
   "execution_count": null,
   "metadata": {},
   "outputs": [],
   "source": [
    "\"\"\"\n",
    "    Method 1: use the cv2.imread() function\n",
    "\"\"\"\n",
    "\n",
    "#Use the imread() function to read the image\n",
    "image = ____\n",
    "#Use the imshow() function to display the image\n",
    "____"
   ]
  },
  {
   "cell_type": "code",
   "execution_count": null,
   "metadata": {},
   "outputs": [],
   "source": [
    "\"\"\"\n",
    "    Method 2: connect to the camera and read the live images\n",
    "\"\"\"\n",
    "\n",
    "#Use the cv2.VideoCapture() function to connect to the camera\n",
    "cap = ____\n",
    "#create a loop to read the images\n",
    "while True:\n",
    "    #Use the read() function to read the image\n",
    "    ret, frame = ____\n",
    "    #Use the imshow() function to display the image\n",
    "    ____\n",
    "    #Use the waitKey() function to wait for a key press\n",
    "    if cv2.waitKey(1) & 0xFF == ord('q'):\n",
    "        break\n",
    "#Use the release() function to release the camera\n",
    "cap.____"
   ]
  },
  {
   "cell_type": "code",
   "execution_count": null,
   "metadata": {},
   "outputs": [],
   "source": [
    "\"\"\"\n",
    "    Method 3: use the Videocapture object to return a single frame\n",
    "\"\"\"\n",
    "#Use the cv2.VideoCapture() function to connect to the camera\n",
    "cap = ____\n",
    "#Use the set() function to set the frame number use 1, number_of_frames as parameter\n",
    "cap.____\n",
    "#now read the cap object\n",
    "image = cap.____\n",
    "#Use the imshow() function to display the image\n",
    "____\n",
    "#release the cap object\n",
    "cap.____"
   ]
  }
 ],
 "metadata": {
  "kernelspec": {
   "display_name": "Python 3",
   "language": "python",
   "name": "python3"
  },
  "language_info": {
   "codemirror_mode": {
    "name": "ipython",
    "version": 3
   },
   "file_extension": ".py",
   "mimetype": "text/x-python",
   "name": "python",
   "nbconvert_exporter": "python",
   "pygments_lexer": "ipython3",
   "version": "3.6.0"
  },
  "orig_nbformat": 4,
  "vscode": {
   "interpreter": {
    "hash": "d207591e6ff77a7c5fb4cef0dd9fd3703274637a9d0902d2045beb3a65bf572a"
   }
  }
 },
 "nbformat": 4,
 "nbformat_minor": 2
}
